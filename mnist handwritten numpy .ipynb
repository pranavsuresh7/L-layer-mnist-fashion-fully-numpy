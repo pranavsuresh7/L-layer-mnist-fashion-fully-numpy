{
 "cells": [
  {
   "cell_type": "markdown",
   "metadata": {},
   "source": [
    "# L-layer Neural Network Fully in Numpy\n",
    "## weights are initialized with he-et initialization and applied Adam Algorithm"
   ]
  },
  {
   "cell_type": "code",
   "execution_count": 63,
   "metadata": {},
   "outputs": [],
   "source": [
    "\n",
    "import numpy as np\n",
    "import pandas as pd\n",
    "import matplotlib.pyplot as plt\n",
    "import PIL as Image\n",
    "import math\n",
    "from scipy.misc import imread, imresize\n",
    "\n",
    "\n"
   ]
  },
  {
   "cell_type": "code",
   "execution_count": 64,
   "metadata": {},
   "outputs": [
    {
     "name": "stdout",
     "output_type": "stream",
     "text": [
      "(60000, 784) (60000,)\n"
     ]
    }
   ],
   "source": [
    "data_train = pd.read_csv(\"/home/pranav/Downloads/fashionmnist/fashion-mnist_train.csv\")\n",
    "Y_train = np.array(data_train['label'])\n",
    "X_train = np.array(data_train.iloc[:,1:785])\n",
    "data_test = pd.read_csv(\"/home/pranav/Downloads/fashionmnist/fashion-mnist_test.csv\")\n",
    "Y_test = np.array(data_test['label'])\n",
    "X_test = np.array(data_test.iloc[:,1:785])\n",
    "print (X_train.shape,Y_train.shape)\n",
    "\n",
    "\n",
    "\n"
   ]
  },
  {
   "cell_type": "code",
   "execution_count": 3,
   "metadata": {},
   "outputs": [
    {
     "name": "stdout",
     "output_type": "stream",
     "text": [
      "(60000, 784)\n",
      "(784,)\n"
     ]
    },
    {
     "data": {
      "text/plain": [
       "<matplotlib.image.AxesImage at 0x7fe54e4f29e8>"
      ]
     },
     "execution_count": 3,
     "metadata": {},
     "output_type": "execute_result"
    },
    {
     "data": {
      "image/png": "[encoded data removed]",
      "text/plain": [
       "<Figure size 432x288 with 1 Axes>"
      ]
     },
     "metadata": {},
     "output_type": "display_data"
    }
   ],
   "source": [
    "firstimage=X_train[65].reshape(28,28)\n",
    "print (X_train.shape)\n",
    "print (X_train[1].shape)\n",
    "plt.imshow(firstimage,cmap=\"gray\")\n",
    "\n",
    "# print(X_train_pc[1])"
   ]
  },
  {
   "cell_type": "code",
   "execution_count": 65,
   "metadata": {},
   "outputs": [],
   "source": [
    "def one_hot_encode(Y,classes):\n",
    "    Y = np.eye(classes)[Y.reshape(-1)].T\n",
    "    return Y\n",
    "                \n",
    "        "
   ]
  },
  {
   "cell_type": "code",
   "execution_count": 66,
   "metadata": {},
   "outputs": [
    {
     "name": "stdout",
     "output_type": "stream",
     "text": [
      "(784, 60000)\n",
      "(10, 60000)\n"
     ]
    }
   ],
   "source": [
    "Xtrain = (X_train.T)/255\n",
    "X = Xtrain\n",
    "print (Xtrain.shape)\n",
    "Ytrain = one_hot_encode(Y_train,classes=10)\n",
    "Y = Ytrain\n",
    "print (Ytrain.shape)\n"
   ]
  },
  {
   "cell_type": "code",
   "execution_count": 67,
   "metadata": {},
   "outputs": [
    {
     "name": "stdout",
     "output_type": "stream",
     "text": [
      "(10, 10000)\n",
      "(784, 10000)\n",
      "(256, 60000)\n"
     ]
    }
   ],
   "source": [
    "\n",
    "Xtest = (X_test.T)/255\n",
    "Ytest = one_hot_encode(Y_test,10) \n",
    "print (Ytest.shape)\n",
    "print (Xtest.shape)\n",
    "XtrainpC = (X_train_pc.T)/255\n",
    "YtrainpC = Y\n",
    "print (XtrainpC.shape)"
   ]
  },
  {
   "cell_type": "code",
   "execution_count": 68,
   "metadata": {},
   "outputs": [],
   "source": [
    "def sigmoid(Z):\n",
    "    \n",
    "    A = 1/(1+np.exp(-Z))\n",
    "    cache = Z\n",
    "    \n",
    "    return A, cache\n",
    "\n",
    "def relu(Z):\n",
    "    A = np.maximum(0,Z)\n",
    "    \n",
    "    assert(A.shape == Z.shape)\n",
    "    \n",
    "    cache = Z \n",
    "    return A, cache\n",
    "\n",
    "\n",
    "def relu_backward(dA, cache):\n",
    "     \n",
    "    Z = cache\n",
    "    dZ = np.array(dA, copy=True) # just converting dz to a correct object.\n",
    "    \n",
    "    # When z <= 0, you should set dz to 0 as well. \n",
    "    dZ[Z <= 0] = 0\n",
    "    \n",
    "    assert (dZ.shape == Z.shape)\n",
    "    \n",
    "    return dZ\n",
    "\n",
    "def sigmoid_backward(dA, cache):\n",
    "    Z = cache\n",
    "    \n",
    "    s = 1/(1+np.exp(-Z))\n",
    "    dZ = dA * s * (1-s)\n",
    "    \n",
    "    assert (dZ.shape == Z.shape)\n",
    "    \n",
    "    return dZ\n",
    "\n"
   ]
  },
  {
   "cell_type": "code",
   "execution_count": 81,
   "metadata": {},
   "outputs": [],
   "source": [
    "# initializing the weights with he-et initialization\n",
    "def initializer_weights(dim_layers):\n",
    "    L=len(dim_layers)\n",
    "    #initializing with he-et initialization\n",
    "    #initializing the parameters \n",
    "    parameters={}\n",
    "    for l in range(1,L):\n",
    "        parameters[\"W\"+str(l)] = np.random.randn(dim_layers[l],dim_layers[l-1])*np.sqrt(2./(dim_layers[l-1]))\n",
    "        parameters[\"b\"+str(l)] = np.zeros((dim_layers[l],1))\n",
    "    return parameters\n",
    "        \n",
    "    "
   ]
  },
  {
   "cell_type": "code",
   "execution_count": 82,
   "metadata": {},
   "outputs": [],
   "source": [
    "# calculating hypothesis with  W,b,A(A is the previous layer activation function)\n",
    "def linear_forward(W,b,Aprev):\n",
    "    Z=np.dot(W,Aprev)+b\n",
    "    cache = W,b,Aprev\n",
    "    \n",
    "    return Z , cache"
   ]
  },
  {
   "cell_type": "code",
   "execution_count": 83,
   "metadata": {},
   "outputs": [],
   "source": [
    "# activation is the forward propagation\n",
    "def linear_activation_forward(W,b,A,activation):\n",
    "    if activation==\"relu\":\n",
    "        Z,L_cache = linear_forward(W,b,A)\n",
    "        A,A_cache = relu(Z)\n",
    "    elif activation == \"sigmoid\":\n",
    "        Z,L_cache = linear_forward(W,b,A)\n",
    "        A,A_cache = sigmoid(Z)\n",
    "    cache = (L_cache,A_cache)\n",
    "    return A,cache"
   ]
  },
  {
   "cell_type": "code",
   "execution_count": 84,
   "metadata": {},
   "outputs": [],
   "source": [
    "# calculating forawrd propagation \n",
    "def L_layerfeedforward(parameters,X,Y):\n",
    "    A_prev =  X\n",
    "    L = len(parameters)//2 # L+1 = number of layers\n",
    "    caches = []\n",
    "    #cache contains Z \n",
    "    for l in range(1,L):\n",
    "        A,cache = linear_activation_forward(parameters[\"W\"+str(l)],parameters[\"b\"+str(l)],A_prev,activation = \"relu\")\n",
    "        caches.append(cache)\n",
    "        A_prev = A\n",
    "\n",
    "    Al,cache =  linear_activation_forward(parameters[\"W\" + str(L)],parameters[\"b\" + str(L)],A_prev,activation = \"sigmoid\")\n",
    "    caches.append(cache)\n",
    "    \n",
    "    \n",
    "    return Al,caches   "
   ]
  },
  {
   "cell_type": "code",
   "execution_count": 85,
   "metadata": {},
   "outputs": [],
   "source": [
    "# error of the neural network \n",
    "def Loss(A,Y):\n",
    "    m = A.shape[1]\n",
    "    logval = (np.multiply(Y,np.log(A)) + np.multiply((1-Y),np.log(1-A)))\n",
    "    loss =- (1/m)*np.sum(logval)\n",
    "    return loss"
   ]
  },
  {
   "cell_type": "code",
   "execution_count": 74,
   "metadata": {},
   "outputs": [],
   "source": [
    "# Calculating Backward activation derivatives\n",
    "def Back_propactivation(dA,cache,activation):\n",
    "    if activation == \"relu\":\n",
    "        dZ = relu_backward(dA, cache)\n",
    "    elif activation == \"sigmoid\":\n",
    "        dZ = sigmoid_backward(dA, cache)\n",
    "    return dZ           "
   ]
  },
  {
   "cell_type": "code",
   "execution_count": 86,
   "metadata": {},
   "outputs": [],
   "source": [
    "# Calculating derivatives of Weights \n",
    "def derivatives_weights(dZ,cache):\n",
    "    W,b,Aprev = cache\n",
    "    m = Aprev.shape[1]\n",
    "    \n",
    "    dW = (1./m)*np.dot(dZ,Aprev.T)\n",
    "    db = (1./m)*np.sum(dZ,axis = 1,keepdims=True)\n",
    "    dA = np.dot(W.T,dZ)\n",
    "    \n",
    "    return dW,db,dA\n",
    "    "
   ]
  },
  {
   "cell_type": "code",
   "execution_count": 87,
   "metadata": {},
   "outputs": [],
   "source": [
    "# Bcakward propagation \n",
    "def L_layerbackward(Al,cache,Y,dim_layer):\n",
    "    \n",
    "    # derivative of last layer activation with respect to loss\n",
    "    dAl = -(np.divide(Y,Al) - np.divide((1-Y),(1-Al)))\n",
    "    L= len(dim_layer) # L=5\n",
    "    grads = {}\n",
    "    #L_cache contains W,b,Aprev and A_cache contains Z\n",
    "    lc=len(cache)\n",
    "    L_cache,A_cache = cache[lc-1]\n",
    "    a,b = cache[0]    \n",
    "    dZ = Back_propactivation(dAl,A_cache,activation=\"sigmoid\")\n",
    "    grads[\"dW\"+str(L-1)],grads[\"db\"+str(L-1)],grads[\"dA\"+str(L-2)] = derivatives_weights(dZ,L_cache)\n",
    "    dAl = grads[\"dA\"+str(L-2)]\n",
    "    for l in reversed(range(1,lc)):\n",
    "        L_cache,A_cache = cache[l-1]\n",
    "        dZ = Back_propactivation(dAl,A_cache,activation=\"relu\")\n",
    "        grads[\"dW\"+str(l)],grads[\"db\"+str(l)],grads[\"dA\"+str(l-1)] = derivatives_weights(dZ,L_cache)\n",
    "        dAl = grads[\"dA\"+str(l-1)]\n",
    "        \n",
    "    return grads    "
   ]
  },
  {
   "cell_type": "code",
   "execution_count": 88,
   "metadata": {},
   "outputs": [],
   "source": [
    "# Adam parameters initialization \n",
    "def initializing_adam(parameters):\n",
    "    v={}\n",
    "    s={}\n",
    "    L=len(parameters)//2 # length of the layers\n",
    "    for l in range(L):\n",
    "        v[\"dW\"+str(l+1)] = np.zeros((parameters[\"W\"+str(l+1)].shape))\n",
    "        s[\"dW\"+str(l+1)] = np.zeros((parameters[\"W\"+str(l+1)].shape))\n",
    "        v[\"db\"+str(l+1)] = np.zeros((parameters[\"b\"+str(l+1)].shape))\n",
    "        s[\"db\"+str(l+1)] = np.zeros((parameters[\"b\"+str(l+1)].shape))\n",
    "    return v,s"
   ]
  },
  {
   "cell_type": "code",
   "execution_count": 89,
   "metadata": {},
   "outputs": [],
   "source": [
    "# Adam optimization  algorithm\n",
    "def adam_algorithm(parameters,grads,beta1,beta2,epsilon,learning_rate,t):\n",
    "    \n",
    "    v,s = initializing_adam(parameters)\n",
    "    V_corrected = {}\n",
    "    S_corrected = {}\n",
    "    \n",
    "    L= len(parameters)//2\n",
    "    for l in range(L):\n",
    "        v[\"dW\"+str(l+1)] = beta1*v[\"dW\"+str(l+1)] + (1-beta1)*grads[\"dW\"+str(l+1)]\n",
    "        v[\"db\"+str(l+1)] = beta1*v[\"db\"+str(l+1)] + (1-beta1)*grads[\"db\"+str(l+1)]\n",
    "        \n",
    "        V_corrected[\"dW\"+str(l+1)] = v[\"dW\"+str(l+1)]/(1-beta1**t)\n",
    "        V_corrected[\"db\"+str(l+1)] = v[\"db\"+str(l+1)]/(1-beta1**t)\n",
    "        \n",
    "        s[\"dW\"+str(l+1)] = beta2*s[\"dW\"+str(l+1)] + (1-beta2)*np.square(grads[\"dW\"+str(l+1)])\n",
    "        s[\"db\"+str(l+1)] = beta2*s[\"db\"+str(l+1)] + (1-beta2)*np.square(grads[\"db\"+str(l+1)])\n",
    "        \n",
    "        S_corrected[\"dW\"+str(l)] = s[\"dW\"+str(l+1)]/(1-beta2**t)\n",
    "        S_corrected[\"db\"+str(l)] = s[\"db\"+str(l+1)]/(1-beta2**t)\n",
    "        \n",
    "        \n",
    "        parameters[\"W\"+str(l+1)] =  parameters[\"W\"+str(l+1)] - learning_rate*V_corrected[\"dW\"+str(l+1)]\n",
    "        parameters[\"b\"+str(l+1)] =  parameters[\"b\"+str(l+1)] - learning_rate*V_corrected[\"db\"+str(l+1)]\n",
    "        \n",
    "    return parameters\n",
    "        \n",
    "        \n",
    "\n",
    "        \n"
   ]
  },
  {
   "cell_type": "code",
   "execution_count": 79,
   "metadata": {},
   "outputs": [],
   "source": [
    "def random_minibatches(X,Y,batch_size,seeds):\n",
    "    np.random.seed(seeds)\n",
    "    m = X.shape[1]\n",
    "    permutation = list(np.random.permutation(m))\n",
    "    X_shuffled = X[:,permutation]\n",
    "    Y_shuflled = Y[:,permutation].reshape(Y.shape[0],m)\n",
    "    random_mini_batches = []\n",
    "    \n",
    "    num_batches = math.floor(m/batch_size)\n",
    "    for random_batches in range(num_batches):\n",
    "        X_random_mini = X_shuffled[:,random_batches*batch_size:(random_batches+1)*batch_size]\n",
    "        Y_random_mini = Y_shuflled[:,random_batches*batch_size:(random_batches+1)*batch_size]\n",
    "        mini_batch = (X_random_mini,Y_random_mini)\n",
    "        random_mini_batches.append(mini_batch)\n",
    "    if m%batch_size !=0:\n",
    "        X_random_mini = X_shuffled[:,num_batches*batch_size:m]\n",
    "        Y_random_mini = Y_shuflled[:,num_batches*batch_size:m]\n",
    "        mini_batch = (X_random_mini,Y_random_mini)\n",
    "        random_mini_batches.append(mini_batch)\n",
    "    return random_mini_batches  "
   ]
  },
  {
   "cell_type": "code",
   "execution_count": 61,
   "metadata": {},
   "outputs": [],
   "source": [
    "def L_layerneuralbetwork(dim_layer,learning_rate,beta1,beta2,epsilon,batch_size,num_iterations,X,Y,t):\n",
    "    parameters = initializer_weights(dim_layer)\n",
    "    seeds = 0\n",
    "    costs =[]\n",
    "    \n",
    "    for i in range(num_iterations):\n",
    "        random_batches = []\n",
    "        m = X.shape[1]\n",
    "        num_iteration_cost = 0\n",
    "        number_minibatches = math.floor(m/batch_size)\n",
    "        seeds = seeds+1\n",
    "        random_batches = random_minibatches(X,Y,batch_size,seeds)\n",
    "        for mini_batches in random_batches:\n",
    "            (X_random_mini,Y_random_mini)  = mini_batches\n",
    "            Al,cache = L_layerfeedforward(parameters,X_random_mini,Y_random_mini)\n",
    "            cost = Loss(Al,Y_random_mini)\n",
    "            num_iteration_cost += (cost/number_minibatches)\n",
    "            grads = L_layerbackward(Al,cache,Y_random_mini,dim_layer)\n",
    "            parameters = adam_algorithm(parameters,grads,beta1,beta2,epsilon,learning_rate,t)\n",
    "            #         parameters = update_grads(parameters,grads,learning_rate) \n",
    "        if i%50==0:\n",
    "            print (num_iteration_cost) \n",
    "        if i%25==0:\n",
    "            costs.append(num_iteration_cost)\n",
    "            plt.plot(np.squeeze(costs))\n",
    "            plt.xlabel(\"loss per 25 itertions\")\n",
    "            plt.ylabel(\"loss\")\n",
    "            plt.title(\"loss of NN with number of iterations\")\n",
    "               \n",
    " \n",
    "    return parameters"
   ]
  },
  {
   "cell_type": "code",
   "execution_count": 62,
   "metadata": {},
   "outputs": [],
   "source": [
    "dim_layer=[784,400,100,30,20,10]\n",
    "learning_rate = .00011\n",
    "num_iterations = 1000\n",
    "beta1 = 0.9\n",
    "beta2 = 0.999\n",
    "epsilon = 10**(-8)\n",
    "t=2\n",
    "batch_size = 32\n",
    "\n"
   ]
  },
  {
   "cell_type": "code",
   "execution_count": 22,
   "metadata": {},
   "outputs": [
    {
     "name": "stdout",
     "output_type": "stream",
     "text": [
      "4.37723512536082\n",
      "1.1189743148112565\n",
      "0.8970759899297069\n",
      "0.8109010212922222\n",
      "0.7602581265456286\n",
      "0.7228998874097613\n",
      "0.6924922352178886\n",
      "0.6670273670848802\n",
      "0.644854041912545\n",
      "0.6253942736134077\n",
      "0.6076727964300888\n",
      "0.5915401560097674\n",
      "0.5767379668075052\n",
      "0.5627529552760484\n",
      "0.5494660414240305\n",
      "0.5367160525730337\n",
      "0.52456986904955\n",
      "0.5125555618777116\n",
      "0.5009405364639719\n",
      "0.48950204446437146\n"
     ]
    },
    {
     "data": {
      "image/png": "[encoded data removed]",
      "text/plain": [
       "<Figure size 432x288 with 1 Axes>"
      ]
     },
     "metadata": {},
     "output_type": "display_data"
    }
   ],
   "source": [
    "parameters = L_layerneuralbetwork(dim_layer,learning_rate,beta1,beta2,epsilon,batch_size,num_iterations,X,Y,t)\n"
   ]
  },
  {
   "cell_type": "code",
   "execution_count": 39,
   "metadata": {},
   "outputs": [
    {
     "name": "stdout",
     "output_type": "stream",
     "text": [
      "(10, 60000)\n",
      "(60000,)\n",
      "(60000,)\n",
      "[2 9 6 ... 8 8 7]\n",
      "0.91065\n"
     ]
    }
   ],
   "source": [
    "Zl,caches = L_layerfeedforward(parameters,X,Y)\n",
    "print (Zl.shape)\n",
    "pred = np.argmax(Zl,axis = 0)\n",
    "print (pred.shape)\n",
    "print (Y_train.shape)\n",
    "print (Y_train)\n",
    "Zl = pred.T\n",
    "Y = Y_train.T\n",
    "print (np.mean(Zl==Y))\n"
   ]
  },
  {
   "cell_type": "code",
   "execution_count": 43,
   "metadata": {},
   "outputs": [
    {
     "name": "stdout",
     "output_type": "stream",
     "text": [
      "0.8879\n"
     ]
    }
   ],
   "source": [
    "Zt,cache = L_layerfeedforward(parameters,Xtest,Ytest)\n",
    "pred = np.argmax(Zt,axis = 0)\n",
    "testpred = pred.T\n",
    "testY = Y_test.T\n",
    "print (np.mean(testpred==testY))\n"
   ]
  },
  {
   "cell_type": "code",
   "execution_count": 101,
   "metadata": {},
   "outputs": [
    {
     "name": "stdout",
     "output_type": "stream",
     "text": [
      "10\n",
      "(60000, 784)\n",
      "T-shirt/top\n"
     ]
    },
    {
     "data": {
      "image/png": "[encoded data removed]",
      "text/plain": [
       "<Figure size 432x288 with 1 Axes>"
      ]
     },
     "metadata": {},
     "output_type": "display_data"
    }
   ],
   "source": [
    "Types_Of_Cloths=[\"T-shirt/top\",\"Trouser\",\"Pullover\",\"Dress\",\"Coat\",\"Sandal\",\"Shirt\",\"Sneaker\",\"Bag\",\"Ankle boot\"]\n",
    "print (len(Types_Of_Cloths))\n",
    "values_for_pred = int(np.random.randint(60000))\n",
    "firstimage=X_train[values_for_pred].reshape(28,28)\n",
    "print (X_train.shape)\n",
    "plt.imshow(firstimage,cmap=\"gray\")\n",
    "print (Types_Of_Cloths[Y_train[values_for_pred]])\n"
   ]
  },
  {
   "cell_type": "code",
   "execution_count": 105,
   "metadata": {},
   "outputs": [
    {
     "name": "stdout",
     "output_type": "stream",
     "text": [
      "(10000, 784)\n",
      "Coat\n"
     ]
    },
    {
     "data": {
      "image/png": "[encoded data removed]",
      "text/plain": [
       "<Figure size 432x288 with 1 Axes>"
      ]
     },
     "metadata": {},
     "output_type": "display_data"
    }
   ],
   "source": [
    "values_for_pred = int(np.random.randint(10000))\n",
    "firstimage=X_test[values_for_pred].reshape(28,28)\n",
    "print (X_test.shape)\n",
    "plt.imshow(firstimage,cmap=\"gray\")\n",
    "print (Types_Of_Cloths[Y_test[values_for_pred]])\n"
   ]
  }
 ],
 "metadata": {
  "kernelspec": {
   "display_name": "Python 3",
   "language": "python",
   "name": "python3"
  },
  "language_info": {
   "codemirror_mode": {
    "name": "ipython",
    "version": 3
   },
   "file_extension": ".py",
   "mimetype": "text/x-python",
   "name": "python",
   "nbconvert_exporter": "python",
   "pygments_lexer": "ipython3",
   "version": "3.6.5"
  }
 },
 "nbformat": 4,
 "nbformat_minor": 2
}
